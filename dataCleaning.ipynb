{
 "cells": [
  {
   "cell_type": "code",
   "execution_count": 2,
   "metadata": {},
   "outputs": [],
   "source": [
    "#import libraries and load data\n",
    "import csv,sys\n",
    "import numpy as np\n",
    "import pandas as pd\n",
    "import matplotlib.pyplot as plt\n",
    "from IPython import display\n",
    "import collections\n",
    "from itertools import chain\n",
    "import sklearn\n",
    "from time import time\n",
    "from sklearn.model_selection import train_test_split\n",
    "from sklearn.preprocessing import Imputer\n",
    "from sklearn.preprocessing import StandardScaler\n",
    "from sklearn.metrics import mean_squared_error\n",
    "from sklearn.linear_model import LinearRegression\n",
    "from sklearn.tree import DecisionTreeRegressor"
   ]
  },
  {
   "cell_type": "code",
   "execution_count": 3,
   "metadata": {},
   "outputs": [],
   "source": [
    "reviewer_data = \"data/review/split/reviews.json\" \n",
    "listing_data = \"data/listing/listings_detail.csv\"\n",
    "listing_cleaned = \"data/listing/listing_cleaned.csv\"\n",
    "calendar_data = \"data/calendar/calendar_detail.csv\"\n",
    "calendar_cleaned = \"data/calendar/calendar_cleaned.csv\"\n",
    "review_cleaned = \"data/review/split/review_cleaned.json\""
   ]
  },
  {
   "cell_type": "code",
   "execution_count": 4,
   "metadata": {
    "scrolled": true
   },
   "outputs": [],
   "source": [
    "listings = pd.read_csv(listing_data, low_memory=False)\n",
    "review = pd.read_json(reviewer_data)\n",
    "calendar = pd.read_csv(calendar_data)"
   ]
  },
  {
   "cell_type": "code",
   "execution_count": 41,
   "metadata": {},
   "outputs": [],
   "source": []
  },
  {
   "cell_type": "code",
   "execution_count": null,
   "metadata": {},
   "outputs": [],
   "source": []
  },
  {
   "cell_type": "markdown",
   "metadata": {},
   "source": [
    "#### Clean dataset\n",
    "\n",
    "- Check for column that has moe that 25% values missing\n",
    "- Drop column with many missing values as it won't be of much use\n",
    "- Write cleaned dataset to file"
   ]
  },
  {
   "cell_type": "code",
   "execution_count": 5,
   "metadata": {},
   "outputs": [
    {
     "data": {
      "text/plain": [
       "['price']"
      ]
     },
     "execution_count": 5,
     "metadata": {},
     "output_type": "execute_result"
    }
   ],
   "source": [
    "#check columns >=25% missing values\n",
    "[cols for cols in calendar.columns.values if (calendar[cols].isnull().sum()/len(calendar))>=0.25]"
   ]
  },
  {
   "cell_type": "code",
   "execution_count": 6,
   "metadata": {},
   "outputs": [
    {
     "data": {
      "text/plain": [
       "[]"
      ]
     },
     "execution_count": 6,
     "metadata": {},
     "output_type": "execute_result"
    }
   ],
   "source": [
    "#check columns >=25% missing values\n",
    "[cols for cols in review.columns.values if (review[cols].isnull().sum()/len(review))>=0.25]"
   ]
  },
  {
   "cell_type": "code",
   "execution_count": 7,
   "metadata": {},
   "outputs": [
    {
     "data": {
      "text/plain": [
       "['space',\n",
       " 'neighborhood_overview',\n",
       " 'notes',\n",
       " 'transit',\n",
       " 'access',\n",
       " 'interaction',\n",
       " 'house_rules',\n",
       " 'host_about',\n",
       " 'host_response_time',\n",
       " 'host_response_rate',\n",
       " 'host_acceptance_rate',\n",
       " 'square_feet',\n",
       " 'weekly_price',\n",
       " 'monthly_price',\n",
       " 'security_deposit',\n",
       " 'cleaning_fee',\n",
       " 'license',\n",
       " 'jurisdiction_names']"
      ]
     },
     "execution_count": 7,
     "metadata": {},
     "output_type": "execute_result"
    }
   ],
   "source": [
    "#check columns >=25% missing values\n",
    "[cols for cols in listings.columns.values if (listings[cols].isnull().sum()/len(listings))>=0.25]"
   ]
  },
  {
   "cell_type": "code",
   "execution_count": 8,
   "metadata": {},
   "outputs": [
    {
     "data": {
      "text/plain": [
       "listing_id           0\n",
       "date                 0\n",
       "available            0\n",
       "price         10600264\n",
       "dtype: int64"
      ]
     },
     "execution_count": 8,
     "metadata": {},
     "output_type": "execute_result"
    }
   ],
   "source": [
    "#check missing values\n",
    "calendar.isnull().sum()"
   ]
  },
  {
   "cell_type": "code",
   "execution_count": 9,
   "metadata": {},
   "outputs": [
    {
     "data": {
      "text/plain": [
       "comments         0\n",
       "date             0\n",
       "id               0\n",
       "listing_id       0\n",
       "reviewer_id      0\n",
       "reviewer_name    0\n",
       "dtype: int64"
      ]
     },
     "execution_count": 9,
     "metadata": {},
     "output_type": "execute_result"
    }
   ],
   "source": [
    "#check missing values\n",
    "review.isnull().sum()"
   ]
  },
  {
   "cell_type": "code",
   "execution_count": 10,
   "metadata": {},
   "outputs": [
    {
     "data": {
      "text/plain": [
       "id                                      0\n",
       "listing_url                             0\n",
       "scrape_id                               0\n",
       "last_scraped                            0\n",
       "name                                   28\n",
       "summary                              1508\n",
       "space                               14467\n",
       "description                            25\n",
       "experiences_offered                     0\n",
       "neighborhood_overview               18698\n",
       "notes                               28170\n",
       "transit                             16975\n",
       "access                              18957\n",
       "interaction                         19949\n",
       "house_rules                         16671\n",
       "thumbnail_url                        3305\n",
       "medium_url                           3305\n",
       "picture_url                             0\n",
       "xl_picture_url                       3305\n",
       "host_id                                 0\n",
       "host_url                                0\n",
       "host_name                             232\n",
       "host_since                            232\n",
       "host_location                         406\n",
       "host_about                          17222\n",
       "host_response_time                  13679\n",
       "host_response_rate                  13679\n",
       "host_acceptance_rate                44317\n",
       "host_is_superhost                     232\n",
       "host_thumbnail_url                    232\n",
       "                                    ...  \n",
       "extra_people                            0\n",
       "minimum_nights                          0\n",
       "maximum_nights                          0\n",
       "calendar_updated                        0\n",
       "has_availability                        0\n",
       "availability_30                         0\n",
       "availability_60                         0\n",
       "availability_90                         0\n",
       "availability_365                        0\n",
       "calendar_last_scraped                   0\n",
       "number_of_reviews                       0\n",
       "first_review                         9474\n",
       "last_review                          9440\n",
       "review_scores_rating                10099\n",
       "review_scores_accuracy              10177\n",
       "review_scores_cleanliness           10146\n",
       "review_scores_checkin               10273\n",
       "review_scores_communication         10174\n",
       "review_scores_location              10292\n",
       "review_scores_value                 10296\n",
       "requires_license                        0\n",
       "license                             44317\n",
       "jurisdiction_names                  44310\n",
       "instant_bookable                        0\n",
       "is_business_travel_ready                0\n",
       "cancellation_policy                     0\n",
       "require_guest_profile_picture           0\n",
       "require_guest_phone_verification        0\n",
       "calculated_host_listings_count          0\n",
       "reviews_per_month                    9474\n",
       "Length: 96, dtype: int64"
      ]
     },
     "execution_count": 10,
     "metadata": {},
     "output_type": "execute_result"
    }
   ],
   "source": [
    "#check missing values\n",
    "listings.isnull().sum()"
   ]
  },
  {
   "cell_type": "code",
   "execution_count": 11,
   "metadata": {},
   "outputs": [],
   "source": [
    "calendar_clean=calendar.drop(columns='price')"
   ]
  },
  {
   "cell_type": "code",
   "execution_count": 12,
   "metadata": {},
   "outputs": [],
   "source": [
    "review_clean=review.drop(columns='comments')"
   ]
  },
  {
   "cell_type": "code",
   "execution_count": 13,
   "metadata": {},
   "outputs": [],
   "source": [
    "listing_clean=listings.drop(['space',\n",
    " 'neighborhood_overview',\n",
    " 'notes',\n",
    " 'transit',\n",
    " 'access',\n",
    " 'interaction',\n",
    " 'house_rules',\n",
    " 'host_about',\n",
    " 'host_response_time',\n",
    " 'host_response_rate',\n",
    " 'host_acceptance_rate',\n",
    " 'square_feet',\n",
    " 'weekly_price',\n",
    " 'monthly_price',\n",
    " 'security_deposit',\n",
    " 'license',\n",
    " 'jurisdiction_names'], axis=1)"
   ]
  },
  {
   "cell_type": "code",
   "execution_count": 14,
   "metadata": {},
   "outputs": [
    {
     "data": {
      "text/plain": [
       "listing_id     int64\n",
       "date          object\n",
       "available     object\n",
       "dtype: object"
      ]
     },
     "execution_count": 14,
     "metadata": {},
     "output_type": "execute_result"
    }
   ],
   "source": [
    "calendar_clean.dtypes"
   ]
  },
  {
   "cell_type": "code",
   "execution_count": 15,
   "metadata": {},
   "outputs": [
    {
     "data": {
      "text/plain": [
       "date             datetime64[ns]\n",
       "id                        int64\n",
       "listing_id                int64\n",
       "reviewer_id               int64\n",
       "reviewer_name            object\n",
       "dtype: object"
      ]
     },
     "execution_count": 15,
     "metadata": {},
     "output_type": "execute_result"
    }
   ],
   "source": [
    "review_clean.dtypes"
   ]
  },
  {
   "cell_type": "code",
   "execution_count": 16,
   "metadata": {},
   "outputs": [
    {
     "data": {
      "text/plain": [
       "id                                    int64\n",
       "listing_url                          object\n",
       "scrape_id                             int64\n",
       "last_scraped                         object\n",
       "name                                 object\n",
       "summary                              object\n",
       "description                          object\n",
       "experiences_offered                  object\n",
       "thumbnail_url                        object\n",
       "medium_url                           object\n",
       "picture_url                          object\n",
       "xl_picture_url                       object\n",
       "host_id                               int64\n",
       "host_url                             object\n",
       "host_name                            object\n",
       "host_since                           object\n",
       "host_location                        object\n",
       "host_is_superhost                    object\n",
       "host_thumbnail_url                   object\n",
       "host_picture_url                     object\n",
       "host_neighbourhood                   object\n",
       "host_listings_count                 float64\n",
       "host_total_listings_count           float64\n",
       "host_verifications                   object\n",
       "host_has_profile_pic                 object\n",
       "host_identity_verified               object\n",
       "street                               object\n",
       "neighbourhood                        object\n",
       "neighbourhood_cleansed               object\n",
       "neighbourhood_group_cleansed         object\n",
       "                                     ...   \n",
       "cleaning_fee                         object\n",
       "guests_included                       int64\n",
       "extra_people                         object\n",
       "minimum_nights                        int64\n",
       "maximum_nights                        int64\n",
       "calendar_updated                     object\n",
       "has_availability                     object\n",
       "availability_30                       int64\n",
       "availability_60                       int64\n",
       "availability_90                       int64\n",
       "availability_365                      int64\n",
       "calendar_last_scraped                object\n",
       "number_of_reviews                     int64\n",
       "first_review                         object\n",
       "last_review                          object\n",
       "review_scores_rating                float64\n",
       "review_scores_accuracy              float64\n",
       "review_scores_cleanliness           float64\n",
       "review_scores_checkin               float64\n",
       "review_scores_communication         float64\n",
       "review_scores_location              float64\n",
       "review_scores_value                 float64\n",
       "requires_license                     object\n",
       "instant_bookable                     object\n",
       "is_business_travel_ready             object\n",
       "cancellation_policy                  object\n",
       "require_guest_profile_picture        object\n",
       "require_guest_phone_verification     object\n",
       "calculated_host_listings_count        int64\n",
       "reviews_per_month                   float64\n",
       "Length: 79, dtype: object"
      ]
     },
     "execution_count": 16,
     "metadata": {},
     "output_type": "execute_result"
    }
   ],
   "source": [
    "listing_clean.dtypes"
   ]
  },
  {
   "cell_type": "code",
   "execution_count": null,
   "metadata": {},
   "outputs": [],
   "source": []
  },
  {
   "cell_type": "code",
   "execution_count": 9,
   "metadata": {},
   "outputs": [],
   "source": [
    "calendar_clean.to_csv(calendar_cleaned, index=False)"
   ]
  },
  {
   "cell_type": "code",
   "execution_count": 18,
   "metadata": {},
   "outputs": [],
   "source": [
    "review_clean.to_csv(review_cleaned, index=False)"
   ]
  },
  {
   "cell_type": "code",
   "execution_count": 31,
   "metadata": {},
   "outputs": [],
   "source": [
    "listing_clean.to_csv(listing_cleaned, index=False, sep=\";\")"
   ]
  },
  {
   "cell_type": "code",
   "execution_count": null,
   "metadata": {},
   "outputs": [],
   "source": []
  },
  {
   "cell_type": "markdown",
   "metadata": {},
   "source": [
    "##### 'comments' column has many ambiguous special characters and won't be relevant for decision making"
   ]
  },
  {
   "cell_type": "code",
   "execution_count": null,
   "metadata": {},
   "outputs": [],
   "source": [
    "review_clean = review.drop(columns='comments')"
   ]
  },
  {
   "cell_type": "code",
   "execution_count": null,
   "metadata": {},
   "outputs": [],
   "source": [
    "review_clean.head(10)"
   ]
  },
  {
   "cell_type": "code",
   "execution_count": null,
   "metadata": {},
   "outputs": [],
   "source": [
    "#review.to_csv(review_clean, index=False)\n",
    "review_clean = review_clean.to_csv(review_clean)"
   ]
  },
  {
   "cell_type": "code",
   "execution_count": null,
   "metadata": {},
   "outputs": [],
   "source": []
  }
 ],
 "metadata": {
  "kernelspec": {
   "display_name": "Python 3",
   "language": "python",
   "name": "python3"
  }
 },
 "nbformat": 4,
 "nbformat_minor": 2
}
